{
 "cells": [
  {
   "cell_type": "code",
   "execution_count": 32,
   "metadata": {},
   "outputs": [],
   "source": [
    "#importing the relevant libraries\n",
    "import pandas as pd\n",
    "import numpy as np\n",
    "import matplotlib.pyplot as plt\n",
    "import seaborn as sns\n",
    "%matplotlib inline\n",
    "from sklearn.metrics import auc, classification_report, roc_auc_score\n",
    "from sklearn.model_selection import train_test_split\n",
    "from lightgbm import LGBMClassifier\n",
    "from sklearn.ensemble import RandomForestClassifier\n",
    "from sklearn.linear_model import LogisticRegression\n",
    "pd.set_option('max_colwidth', 500)\n",
    "import warnings\n",
    "warnings.filterwarnings('ignore')"
   ]
  },
  {
   "cell_type": "code",
   "execution_count": 2,
   "metadata": {},
   "outputs": [],
   "source": [
    "#loading the datasets\n",
    "train_df = pd.read_csv(\"Train.csv\")\n",
    "test_df = pd.read_csv(\"Test.csv\")\n"
   ]
  },
  {
   "cell_type": "code",
   "execution_count": 3,
   "metadata": {},
   "outputs": [
    {
     "data": {
      "text/html": [
       "<div>\n",
       "<style scoped>\n",
       "    .dataframe tbody tr th:only-of-type {\n",
       "        vertical-align: middle;\n",
       "    }\n",
       "\n",
       "    .dataframe tbody tr th {\n",
       "        vertical-align: top;\n",
       "    }\n",
       "\n",
       "    .dataframe thead th {\n",
       "        text-align: right;\n",
       "    }\n",
       "</style>\n",
       "<table border=\"1\" class=\"dataframe\">\n",
       "  <thead>\n",
       "    <tr style=\"text-align: right;\">\n",
       "      <th></th>\n",
       "      <th>ID</th>\n",
       "      <th>country</th>\n",
       "      <th>region</th>\n",
       "      <th>population</th>\n",
       "      <th>age</th>\n",
       "      <th>Q1</th>\n",
       "      <th>Q2</th>\n",
       "      <th>Q3</th>\n",
       "      <th>Q4</th>\n",
       "      <th>Q5</th>\n",
       "      <th>...</th>\n",
       "      <th>Q21</th>\n",
       "      <th>Q22</th>\n",
       "      <th>Q23</th>\n",
       "      <th>Q24</th>\n",
       "      <th>Q25</th>\n",
       "      <th>Q26</th>\n",
       "      <th>Q27</th>\n",
       "      <th>owns_mobile</th>\n",
       "      <th>Q28</th>\n",
       "      <th>target</th>\n",
       "    </tr>\n",
       "  </thead>\n",
       "  <tbody>\n",
       "    <tr>\n",
       "      <th>0</th>\n",
       "      <td>ID_0000020532</td>\n",
       "      <td>Morocco</td>\n",
       "      <td>Middle East &amp; North Africa (excluding high income)</td>\n",
       "      <td>25550170.0</td>\n",
       "      <td>66.0</td>\n",
       "      <td>2</td>\n",
       "      <td>NaN</td>\n",
       "      <td>NaN</td>\n",
       "      <td>NaN</td>\n",
       "      <td>NaN</td>\n",
       "      <td>...</td>\n",
       "      <td>1</td>\n",
       "      <td>2</td>\n",
       "      <td>NaN</td>\n",
       "      <td>1</td>\n",
       "      <td>2</td>\n",
       "      <td>2.0</td>\n",
       "      <td>2.0</td>\n",
       "      <td>1.0</td>\n",
       "      <td>1.0</td>\n",
       "      <td>0</td>\n",
       "    </tr>\n",
       "    <tr>\n",
       "      <th>1</th>\n",
       "      <td>ID_0000075765</td>\n",
       "      <td>Lebanon</td>\n",
       "      <td>Middle East &amp; North Africa (excluding high income)</td>\n",
       "      <td>4591023.0</td>\n",
       "      <td>44.0</td>\n",
       "      <td>2</td>\n",
       "      <td>NaN</td>\n",
       "      <td>NaN</td>\n",
       "      <td>2.0</td>\n",
       "      <td>2.0</td>\n",
       "      <td>...</td>\n",
       "      <td>1</td>\n",
       "      <td>2</td>\n",
       "      <td>NaN</td>\n",
       "      <td>2</td>\n",
       "      <td>2</td>\n",
       "      <td>2.0</td>\n",
       "      <td>1.0</td>\n",
       "      <td>1.0</td>\n",
       "      <td>1.0</td>\n",
       "      <td>1</td>\n",
       "    </tr>\n",
       "    <tr>\n",
       "      <th>2</th>\n",
       "      <td>ID_0000085491</td>\n",
       "      <td>Morocco</td>\n",
       "      <td>Middle East &amp; North Africa (excluding high income)</td>\n",
       "      <td>25550170.0</td>\n",
       "      <td>29.0</td>\n",
       "      <td>1</td>\n",
       "      <td>1.0</td>\n",
       "      <td>1.0</td>\n",
       "      <td>2.0</td>\n",
       "      <td>2.0</td>\n",
       "      <td>...</td>\n",
       "      <td>1</td>\n",
       "      <td>1</td>\n",
       "      <td>2.0</td>\n",
       "      <td>2</td>\n",
       "      <td>2</td>\n",
       "      <td>2.0</td>\n",
       "      <td>NaN</td>\n",
       "      <td>1.0</td>\n",
       "      <td>1.0</td>\n",
       "      <td>0</td>\n",
       "    </tr>\n",
       "    <tr>\n",
       "      <th>3</th>\n",
       "      <td>ID_0000144505</td>\n",
       "      <td>Canada</td>\n",
       "      <td>High income: OECD</td>\n",
       "      <td>30491168.0</td>\n",
       "      <td>44.0</td>\n",
       "      <td>1</td>\n",
       "      <td>1.0</td>\n",
       "      <td>1.0</td>\n",
       "      <td>1.0</td>\n",
       "      <td>1.0</td>\n",
       "      <td>...</td>\n",
       "      <td>1</td>\n",
       "      <td>1</td>\n",
       "      <td>2.0</td>\n",
       "      <td>1</td>\n",
       "      <td>2</td>\n",
       "      <td>NaN</td>\n",
       "      <td>NaN</td>\n",
       "      <td>1.0</td>\n",
       "      <td>NaN</td>\n",
       "      <td>1</td>\n",
       "    </tr>\n",
       "    <tr>\n",
       "      <th>4</th>\n",
       "      <td>ID_0000214184</td>\n",
       "      <td>Mexico</td>\n",
       "      <td>Latin America &amp; Caribbean (excluding high income)</td>\n",
       "      <td>93002320.0</td>\n",
       "      <td>36.0</td>\n",
       "      <td>2</td>\n",
       "      <td>NaN</td>\n",
       "      <td>NaN</td>\n",
       "      <td>NaN</td>\n",
       "      <td>NaN</td>\n",
       "      <td>...</td>\n",
       "      <td>1</td>\n",
       "      <td>2</td>\n",
       "      <td>NaN</td>\n",
       "      <td>1</td>\n",
       "      <td>2</td>\n",
       "      <td>2.0</td>\n",
       "      <td>2.0</td>\n",
       "      <td>1.0</td>\n",
       "      <td>1.0</td>\n",
       "      <td>1</td>\n",
       "    </tr>\n",
       "  </tbody>\n",
       "</table>\n",
       "<p>5 rows × 36 columns</p>\n",
       "</div>"
      ],
      "text/plain": [
       "              ID  country                                              region  \\\n",
       "0  ID_0000020532  Morocco  Middle East & North Africa (excluding high income)   \n",
       "1  ID_0000075765  Lebanon  Middle East & North Africa (excluding high income)   \n",
       "2  ID_0000085491  Morocco  Middle East & North Africa (excluding high income)   \n",
       "3  ID_0000144505   Canada                                   High income: OECD   \n",
       "4  ID_0000214184   Mexico   Latin America & Caribbean (excluding high income)   \n",
       "\n",
       "   population   age  Q1   Q2   Q3   Q4   Q5  ...  Q21  Q22  Q23  Q24  Q25  \\\n",
       "0  25550170.0  66.0   2  NaN  NaN  NaN  NaN  ...    1    2  NaN    1    2   \n",
       "1   4591023.0  44.0   2  NaN  NaN  2.0  2.0  ...    1    2  NaN    2    2   \n",
       "2  25550170.0  29.0   1  1.0  1.0  2.0  2.0  ...    1    1  2.0    2    2   \n",
       "3  30491168.0  44.0   1  1.0  1.0  1.0  1.0  ...    1    1  2.0    1    2   \n",
       "4  93002320.0  36.0   2  NaN  NaN  NaN  NaN  ...    1    2  NaN    1    2   \n",
       "\n",
       "   Q26  Q27  owns_mobile  Q28  target  \n",
       "0  2.0  2.0          1.0  1.0       0  \n",
       "1  2.0  1.0          1.0  1.0       1  \n",
       "2  2.0  NaN          1.0  1.0       0  \n",
       "3  NaN  NaN          1.0  NaN       1  \n",
       "4  2.0  2.0          1.0  1.0       1  \n",
       "\n",
       "[5 rows x 36 columns]"
      ]
     },
     "execution_count": 3,
     "metadata": {},
     "output_type": "execute_result"
    }
   ],
   "source": [
    "train_df.head()"
   ]
  },
  {
   "cell_type": "code",
   "execution_count": 4,
   "metadata": {},
   "outputs": [
    {
     "name": "stdout",
     "output_type": "stream",
     "text": [
      "<class 'pandas.core.frame.DataFrame'>\n",
      "RangeIndex: 104867 entries, 0 to 104866\n",
      "Data columns (total 36 columns):\n",
      " #   Column       Non-Null Count   Dtype  \n",
      "---  ------       --------------   -----  \n",
      " 0   ID           104867 non-null  object \n",
      " 1   country      104867 non-null  object \n",
      " 2   region       104188 non-null  object \n",
      " 3   population   104867 non-null  float64\n",
      " 4   age          104580 non-null  float64\n",
      " 5   Q1           104867 non-null  int64  \n",
      " 6   Q2           47721 non-null   float64\n",
      " 7   Q3           45214 non-null   float64\n",
      " 8   Q4           57445 non-null   float64\n",
      " 9   Q5           57445 non-null   float64\n",
      " 10  Q6           104867 non-null  int64  \n",
      " 11  Q7           20641 non-null   float64\n",
      " 12  Q8           59029 non-null   float64\n",
      " 13  Q9           59029 non-null   float64\n",
      " 14  Q10a         104867 non-null  int64  \n",
      " 15  Q10b         104867 non-null  int64  \n",
      " 16  Q11          104867 non-null  int64  \n",
      " 17  Q12          104867 non-null  int64  \n",
      " 18  Q13a         104867 non-null  int64  \n",
      " 19  Q14          104867 non-null  int64  \n",
      " 20  Q15          104867 non-null  int64  \n",
      " 21  Q16          104867 non-null  int64  \n",
      " 22  Q17a         104867 non-null  int64  \n",
      " 23  Q17b         104867 non-null  int64  \n",
      " 24  Q19          80694 non-null   float64\n",
      " 25  Q20          80694 non-null   float64\n",
      " 26  Q21          104867 non-null  int64  \n",
      " 27  Q22          104867 non-null  int64  \n",
      " 28  Q23          37580 non-null   float64\n",
      " 29  Q24          104867 non-null  int64  \n",
      " 30  Q25          104867 non-null  int64  \n",
      " 31  Q26          80694 non-null   float64\n",
      " 32  Q27          58429 non-null   float64\n",
      " 33  owns_mobile  104866 non-null  float64\n",
      " 34  Q28          73862 non-null   float64\n",
      " 35  target       104867 non-null  int64  \n",
      "dtypes: float64(16), int64(17), object(3)\n",
      "memory usage: 28.8+ MB\n"
     ]
    }
   ],
   "source": [
    "train_df.info()"
   ]
  },
  {
   "cell_type": "code",
   "execution_count": 5,
   "metadata": {},
   "outputs": [
    {
     "data": {
      "text/html": [
       "<div>\n",
       "<style scoped>\n",
       "    .dataframe tbody tr th:only-of-type {\n",
       "        vertical-align: middle;\n",
       "    }\n",
       "\n",
       "    .dataframe tbody tr th {\n",
       "        vertical-align: top;\n",
       "    }\n",
       "\n",
       "    .dataframe thead th {\n",
       "        text-align: right;\n",
       "    }\n",
       "</style>\n",
       "<table border=\"1\" class=\"dataframe\">\n",
       "  <thead>\n",
       "    <tr style=\"text-align: right;\">\n",
       "      <th></th>\n",
       "      <th>ID</th>\n",
       "      <th>country</th>\n",
       "      <th>region</th>\n",
       "      <th>population</th>\n",
       "      <th>age</th>\n",
       "      <th>Q1</th>\n",
       "      <th>Q2</th>\n",
       "      <th>Q3</th>\n",
       "      <th>Q4</th>\n",
       "      <th>Q5</th>\n",
       "      <th>...</th>\n",
       "      <th>Q20</th>\n",
       "      <th>Q21</th>\n",
       "      <th>Q22</th>\n",
       "      <th>Q23</th>\n",
       "      <th>Q24</th>\n",
       "      <th>Q25</th>\n",
       "      <th>Q26</th>\n",
       "      <th>Q27</th>\n",
       "      <th>owns_mobile</th>\n",
       "      <th>Q28</th>\n",
       "    </tr>\n",
       "  </thead>\n",
       "  <tbody>\n",
       "    <tr>\n",
       "      <th>0</th>\n",
       "      <td>ID_0000005111</td>\n",
       "      <td>Croatia</td>\n",
       "      <td>Europe &amp; Central Asia (excluding high income)</td>\n",
       "      <td>3557444.5</td>\n",
       "      <td>62.0</td>\n",
       "      <td>2</td>\n",
       "      <td>NaN</td>\n",
       "      <td>NaN</td>\n",
       "      <td>2.0</td>\n",
       "      <td>2.0</td>\n",
       "      <td>...</td>\n",
       "      <td>2.0</td>\n",
       "      <td>2</td>\n",
       "      <td>1</td>\n",
       "      <td>1.0</td>\n",
       "      <td>2</td>\n",
       "      <td>2</td>\n",
       "      <td>2.0</td>\n",
       "      <td>NaN</td>\n",
       "      <td>1.0</td>\n",
       "      <td>1.0</td>\n",
       "    </tr>\n",
       "    <tr>\n",
       "      <th>1</th>\n",
       "      <td>ID_0000389416</td>\n",
       "      <td>Kazakhstan</td>\n",
       "      <td>Europe &amp; Central Asia (excluding high income)</td>\n",
       "      <td>12920168.0</td>\n",
       "      <td>32.0</td>\n",
       "      <td>2</td>\n",
       "      <td>NaN</td>\n",
       "      <td>NaN</td>\n",
       "      <td>NaN</td>\n",
       "      <td>NaN</td>\n",
       "      <td>...</td>\n",
       "      <td>2.0</td>\n",
       "      <td>2</td>\n",
       "      <td>2</td>\n",
       "      <td>NaN</td>\n",
       "      <td>2</td>\n",
       "      <td>2</td>\n",
       "      <td>2.0</td>\n",
       "      <td>2.0</td>\n",
       "      <td>1.0</td>\n",
       "      <td>2.0</td>\n",
       "    </tr>\n",
       "    <tr>\n",
       "      <th>2</th>\n",
       "      <td>ID_0000634789</td>\n",
       "      <td>Costa Rica</td>\n",
       "      <td>Latin America &amp; Caribbean (excluding high income)</td>\n",
       "      <td>3791520.0</td>\n",
       "      <td>73.0</td>\n",
       "      <td>1</td>\n",
       "      <td>1.0</td>\n",
       "      <td>1.0</td>\n",
       "      <td>2.0</td>\n",
       "      <td>2.0</td>\n",
       "      <td>...</td>\n",
       "      <td>2.0</td>\n",
       "      <td>2</td>\n",
       "      <td>2</td>\n",
       "      <td>NaN</td>\n",
       "      <td>2</td>\n",
       "      <td>1</td>\n",
       "      <td>2.0</td>\n",
       "      <td>1.0</td>\n",
       "      <td>1.0</td>\n",
       "      <td>1.0</td>\n",
       "    </tr>\n",
       "    <tr>\n",
       "      <th>3</th>\n",
       "      <td>ID_0000778100</td>\n",
       "      <td>Japan</td>\n",
       "      <td>High income: OECD</td>\n",
       "      <td>110566824.0</td>\n",
       "      <td>67.0</td>\n",
       "      <td>1</td>\n",
       "      <td>1.0</td>\n",
       "      <td>1.0</td>\n",
       "      <td>1.0</td>\n",
       "      <td>2.0</td>\n",
       "      <td>...</td>\n",
       "      <td>NaN</td>\n",
       "      <td>1</td>\n",
       "      <td>1</td>\n",
       "      <td>2.0</td>\n",
       "      <td>1</td>\n",
       "      <td>1</td>\n",
       "      <td>NaN</td>\n",
       "      <td>NaN</td>\n",
       "      <td>1.0</td>\n",
       "      <td>NaN</td>\n",
       "    </tr>\n",
       "    <tr>\n",
       "      <th>4</th>\n",
       "      <td>ID_0001123210</td>\n",
       "      <td>Morocco</td>\n",
       "      <td>Middle East &amp; North Africa (excluding high income)</td>\n",
       "      <td>25550170.0</td>\n",
       "      <td>32.0</td>\n",
       "      <td>1</td>\n",
       "      <td>1.0</td>\n",
       "      <td>1.0</td>\n",
       "      <td>2.0</td>\n",
       "      <td>2.0</td>\n",
       "      <td>...</td>\n",
       "      <td>1.0</td>\n",
       "      <td>2</td>\n",
       "      <td>2</td>\n",
       "      <td>NaN</td>\n",
       "      <td>2</td>\n",
       "      <td>2</td>\n",
       "      <td>2.0</td>\n",
       "      <td>2.0</td>\n",
       "      <td>1.0</td>\n",
       "      <td>1.0</td>\n",
       "    </tr>\n",
       "  </tbody>\n",
       "</table>\n",
       "<p>5 rows × 35 columns</p>\n",
       "</div>"
      ],
      "text/plain": [
       "              ID     country  \\\n",
       "0  ID_0000005111     Croatia   \n",
       "1  ID_0000389416  Kazakhstan   \n",
       "2  ID_0000634789  Costa Rica   \n",
       "3  ID_0000778100       Japan   \n",
       "4  ID_0001123210     Morocco   \n",
       "\n",
       "                                               region   population   age  Q1  \\\n",
       "0       Europe & Central Asia (excluding high income)    3557444.5  62.0   2   \n",
       "1       Europe & Central Asia (excluding high income)   12920168.0  32.0   2   \n",
       "2   Latin America & Caribbean (excluding high income)    3791520.0  73.0   1   \n",
       "3                                   High income: OECD  110566824.0  67.0   1   \n",
       "4  Middle East & North Africa (excluding high income)   25550170.0  32.0   1   \n",
       "\n",
       "    Q2   Q3   Q4   Q5  ...  Q20  Q21  Q22  Q23  Q24  Q25  Q26  Q27  \\\n",
       "0  NaN  NaN  2.0  2.0  ...  2.0    2    1  1.0    2    2  2.0  NaN   \n",
       "1  NaN  NaN  NaN  NaN  ...  2.0    2    2  NaN    2    2  2.0  2.0   \n",
       "2  1.0  1.0  2.0  2.0  ...  2.0    2    2  NaN    2    1  2.0  1.0   \n",
       "3  1.0  1.0  1.0  2.0  ...  NaN    1    1  2.0    1    1  NaN  NaN   \n",
       "4  1.0  1.0  2.0  2.0  ...  1.0    2    2  NaN    2    2  2.0  2.0   \n",
       "\n",
       "   owns_mobile  Q28  \n",
       "0          1.0  1.0  \n",
       "1          1.0  2.0  \n",
       "2          1.0  1.0  \n",
       "3          1.0  NaN  \n",
       "4          1.0  1.0  \n",
       "\n",
       "[5 rows x 35 columns]"
      ]
     },
     "execution_count": 5,
     "metadata": {},
     "output_type": "execute_result"
    }
   ],
   "source": [
    "test_df.head()"
   ]
  },
  {
   "cell_type": "code",
   "execution_count": 6,
   "metadata": {},
   "outputs": [
    {
     "data": {
      "text/plain": [
       "ID                 0\n",
       "country            0\n",
       "region           679\n",
       "population         0\n",
       "age              287\n",
       "Q1                 0\n",
       "Q2             57146\n",
       "Q3             59653\n",
       "Q4             47422\n",
       "Q5             47422\n",
       "Q6                 0\n",
       "Q7             84226\n",
       "Q8             45838\n",
       "Q9             45838\n",
       "Q10a               0\n",
       "Q10b               0\n",
       "Q11                0\n",
       "Q12                0\n",
       "Q13a               0\n",
       "Q14                0\n",
       "Q15                0\n",
       "Q16                0\n",
       "Q17a               0\n",
       "Q17b               0\n",
       "Q19            24173\n",
       "Q20            24173\n",
       "Q21                0\n",
       "Q22                0\n",
       "Q23            67287\n",
       "Q24                0\n",
       "Q25                0\n",
       "Q26            24173\n",
       "Q27            46438\n",
       "owns_mobile        1\n",
       "Q28            31005\n",
       "target             0\n",
       "dtype: int64"
      ]
     },
     "execution_count": 6,
     "metadata": {},
     "output_type": "execute_result"
    }
   ],
   "source": [
    "train_df.isnull().sum()"
   ]
  },
  {
   "cell_type": "code",
   "execution_count": 7,
   "metadata": {},
   "outputs": [
    {
     "data": {
      "text/plain": [
       "3775212"
      ]
     },
     "execution_count": 7,
     "metadata": {},
     "output_type": "execute_result"
    }
   ],
   "source": [
    "train_df.size"
   ]
  },
  {
   "cell_type": "code",
   "execution_count": 8,
   "metadata": {},
   "outputs": [
    {
     "data": {
      "text/html": [
       "<div>\n",
       "<style scoped>\n",
       "    .dataframe tbody tr th:only-of-type {\n",
       "        vertical-align: middle;\n",
       "    }\n",
       "\n",
       "    .dataframe tbody tr th {\n",
       "        vertical-align: top;\n",
       "    }\n",
       "\n",
       "    .dataframe thead th {\n",
       "        text-align: right;\n",
       "    }\n",
       "</style>\n",
       "<table border=\"1\" class=\"dataframe\">\n",
       "  <thead>\n",
       "    <tr style=\"text-align: right;\">\n",
       "      <th></th>\n",
       "      <th>ID</th>\n",
       "      <th>Person unique/random identification</th>\n",
       "      <th>For columns(Q1 - Q28), Value 1 - Yes, 2 - No, 3-Don’t Know 4 - refused to answer</th>\n",
       "    </tr>\n",
       "  </thead>\n",
       "  <tbody>\n",
       "    <tr>\n",
       "      <th>0</th>\n",
       "      <td>country</td>\n",
       "      <td>The country</td>\n",
       "      <td>NaN</td>\n",
       "    </tr>\n",
       "    <tr>\n",
       "      <th>1</th>\n",
       "      <td>region</td>\n",
       "      <td>Region of a given country,.i.e., South Asia, Europe, etc</td>\n",
       "      <td>NaN</td>\n",
       "    </tr>\n",
       "    <tr>\n",
       "      <th>2</th>\n",
       "      <td>population</td>\n",
       "      <td>The population of the given country</td>\n",
       "      <td>NaN</td>\n",
       "    </tr>\n",
       "    <tr>\n",
       "      <th>3</th>\n",
       "      <td>age</td>\n",
       "      <td>Individual age</td>\n",
       "      <td>NaN</td>\n",
       "    </tr>\n",
       "    <tr>\n",
       "      <th>4</th>\n",
       "      <td>Q1</td>\n",
       "      <td>Has ATM/debit card</td>\n",
       "      <td>NaN</td>\n",
       "    </tr>\n",
       "    <tr>\n",
       "      <th>5</th>\n",
       "      <td>Q2</td>\n",
       "      <td>Is the ATM connect to an account with your name?</td>\n",
       "      <td>NaN</td>\n",
       "    </tr>\n",
       "    <tr>\n",
       "      <th>6</th>\n",
       "      <td>Q3</td>\n",
       "      <td>Purchased with the ATM</td>\n",
       "      <td>NaN</td>\n",
       "    </tr>\n",
       "    <tr>\n",
       "      <th>7</th>\n",
       "      <td>Q4</td>\n",
       "      <td>Use of mobile or internet to make payments or send money</td>\n",
       "      <td>NaN</td>\n",
       "    </tr>\n",
       "    <tr>\n",
       "      <th>8</th>\n",
       "      <td>Q5</td>\n",
       "      <td>Mobile/internet to check account balance</td>\n",
       "      <td>NaN</td>\n",
       "    </tr>\n",
       "    <tr>\n",
       "      <th>9</th>\n",
       "      <td>Q6</td>\n",
       "      <td>Has a credit card</td>\n",
       "      <td>NaN</td>\n",
       "    </tr>\n",
       "    <tr>\n",
       "      <th>10</th>\n",
       "      <td>Q7</td>\n",
       "      <td>Used the credit card in 12 months</td>\n",
       "      <td>NaN</td>\n",
       "    </tr>\n",
       "    <tr>\n",
       "      <th>11</th>\n",
       "      <td>Q8</td>\n",
       "      <td>Money deposits to a bank account in the last 12 months</td>\n",
       "      <td>NaN</td>\n",
       "    </tr>\n",
       "    <tr>\n",
       "      <th>12</th>\n",
       "      <td>Q9</td>\n",
       "      <td>Money withdrawals from a bank account in the last 12 months</td>\n",
       "      <td>NaN</td>\n",
       "    </tr>\n",
       "    <tr>\n",
       "      <th>13</th>\n",
       "      <td>Q10a</td>\n",
       "      <td>Used the Internet in the last 12 months;- to make payments for the bills -</td>\n",
       "      <td>NaN</td>\n",
       "    </tr>\n",
       "    <tr>\n",
       "      <th>14</th>\n",
       "      <td>Q10b</td>\n",
       "      <td>Used the Internet in the last 12 months;- to buy something online</td>\n",
       "      <td>NaN</td>\n",
       "    </tr>\n",
       "    <tr>\n",
       "      <th>15</th>\n",
       "      <td>Q11</td>\n",
       "      <td>Savings in the last 12 months to start a business/farm</td>\n",
       "      <td>NaN</td>\n",
       "    </tr>\n",
       "    <tr>\n",
       "      <th>16</th>\n",
       "      <td>Q12</td>\n",
       "      <td>Savings in the last 12 months for old age</td>\n",
       "      <td>NaN</td>\n",
       "    </tr>\n",
       "    <tr>\n",
       "      <th>17</th>\n",
       "      <td>Q13a</td>\n",
       "      <td>Saved the money at a bank/financial institutions</td>\n",
       "      <td>NaN</td>\n",
       "    </tr>\n",
       "    <tr>\n",
       "      <th>18</th>\n",
       "      <td>Q13b</td>\n",
       "      <td>Save the money at groups/clubs of any informal type</td>\n",
       "      <td>NaN</td>\n",
       "    </tr>\n",
       "    <tr>\n",
       "      <th>19</th>\n",
       "      <td>Q14</td>\n",
       "      <td>Has a loan from formal financial institutions to purchase land, home, or apartment</td>\n",
       "      <td>NaN</td>\n",
       "    </tr>\n",
       "    <tr>\n",
       "      <th>20</th>\n",
       "      <td>Q15</td>\n",
       "      <td>Borrowed money for health/medical purposes in the last 12 months</td>\n",
       "      <td>NaN</td>\n",
       "    </tr>\n",
       "    <tr>\n",
       "      <th>21</th>\n",
       "      <td>Q16</td>\n",
       "      <td>Borrowed money to start/grow business or farm</td>\n",
       "      <td>NaN</td>\n",
       "    </tr>\n",
       "    <tr>\n",
       "      <th>22</th>\n",
       "      <td>Q17a</td>\n",
       "      <td>Borrowed money from formal financial institutions - 12 months</td>\n",
       "      <td>NaN</td>\n",
       "    </tr>\n",
       "    <tr>\n",
       "      <th>23</th>\n",
       "      <td>Q17b</td>\n",
       "      <td>Borrowed money from friends, relatives, or family - 12 months</td>\n",
       "      <td>NaN</td>\n",
       "    </tr>\n",
       "    <tr>\n",
       "      <th>24</th>\n",
       "      <td>Q19</td>\n",
       "      <td>Sent/given money to friend/relative</td>\n",
       "      <td>NaN</td>\n",
       "    </tr>\n",
       "    <tr>\n",
       "      <th>25</th>\n",
       "      <td>Q20</td>\n",
       "      <td>Received money from friend or relative</td>\n",
       "      <td>NaN</td>\n",
       "    </tr>\n",
       "    <tr>\n",
       "      <th>26</th>\n",
       "      <td>Q21</td>\n",
       "      <td>Payments for electricity, water, or trash in the last 12 months</td>\n",
       "      <td>NaN</td>\n",
       "    </tr>\n",
       "    <tr>\n",
       "      <th>27</th>\n",
       "      <td>Q22</td>\n",
       "      <td>salary/wages in the last 12 months</td>\n",
       "      <td>NaN</td>\n",
       "    </tr>\n",
       "    <tr>\n",
       "      <th>28</th>\n",
       "      <td>Q23</td>\n",
       "      <td>Employed by government or public sector -12 months</td>\n",
       "      <td>NaN</td>\n",
       "    </tr>\n",
       "    <tr>\n",
       "      <th>29</th>\n",
       "      <td>Q24</td>\n",
       "      <td>Received any form of financial support from the government</td>\n",
       "      <td>NaN</td>\n",
       "    </tr>\n",
       "    <tr>\n",
       "      <th>30</th>\n",
       "      <td>Q25</td>\n",
       "      <td>Pension in the last 12 months</td>\n",
       "      <td>NaN</td>\n",
       "    </tr>\n",
       "    <tr>\n",
       "      <th>31</th>\n",
       "      <td>Q26</td>\n",
       "      <td>Received money for the sale of livestock, agricultural products, crops, produce? (12 months)</td>\n",
       "      <td>NaN</td>\n",
       "    </tr>\n",
       "    <tr>\n",
       "      <th>32</th>\n",
       "      <td>Q27</td>\n",
       "      <td>Received money from your business in last 12 months</td>\n",
       "      <td>NaN</td>\n",
       "    </tr>\n",
       "    <tr>\n",
       "      <th>33</th>\n",
       "      <td>owns_mobile</td>\n",
       "      <td>Owns a mobile phone</td>\n",
       "      <td>NaN</td>\n",
       "    </tr>\n",
       "    <tr>\n",
       "      <th>34</th>\n",
       "      <td>Q28</td>\n",
       "      <td>Has national ID card</td>\n",
       "      <td>NaN</td>\n",
       "    </tr>\n",
       "    <tr>\n",
       "      <th>35</th>\n",
       "      <td>target</td>\n",
       "      <td>target class</td>\n",
       "      <td>NaN</td>\n",
       "    </tr>\n",
       "  </tbody>\n",
       "</table>\n",
       "</div>"
      ],
      "text/plain": [
       "             ID  \\\n",
       "0       country   \n",
       "1        region   \n",
       "2    population   \n",
       "3           age   \n",
       "4            Q1   \n",
       "5            Q2   \n",
       "6            Q3   \n",
       "7            Q4   \n",
       "8            Q5   \n",
       "9            Q6   \n",
       "10           Q7   \n",
       "11           Q8   \n",
       "12           Q9   \n",
       "13         Q10a   \n",
       "14         Q10b   \n",
       "15          Q11   \n",
       "16          Q12   \n",
       "17         Q13a   \n",
       "18         Q13b   \n",
       "19          Q14   \n",
       "20          Q15   \n",
       "21          Q16   \n",
       "22         Q17a   \n",
       "23         Q17b   \n",
       "24          Q19   \n",
       "25          Q20   \n",
       "26          Q21   \n",
       "27          Q22   \n",
       "28          Q23   \n",
       "29          Q24   \n",
       "30          Q25   \n",
       "31          Q26   \n",
       "32          Q27   \n",
       "33  owns_mobile   \n",
       "34          Q28   \n",
       "35       target   \n",
       "\n",
       "                                                             Person unique/random identification  \\\n",
       "0                                                                                    The country   \n",
       "1                                       Region of a given country,.i.e., South Asia, Europe, etc   \n",
       "2                                                            The population of the given country   \n",
       "3                                                                                 Individual age   \n",
       "4                                                                             Has ATM/debit card   \n",
       "5                                               Is the ATM connect to an account with your name?   \n",
       "6                                                                         Purchased with the ATM   \n",
       "7                                       Use of mobile or internet to make payments or send money   \n",
       "8                                                       Mobile/internet to check account balance   \n",
       "9                                                                              Has a credit card   \n",
       "10                                                             Used the credit card in 12 months   \n",
       "11                                        Money deposits to a bank account in the last 12 months   \n",
       "12                                   Money withdrawals from a bank account in the last 12 months   \n",
       "13                    Used the Internet in the last 12 months;- to make payments for the bills -   \n",
       "14                             Used the Internet in the last 12 months;- to buy something online   \n",
       "15                                        Savings in the last 12 months to start a business/farm   \n",
       "16                                                     Savings in the last 12 months for old age   \n",
       "17                                              Saved the money at a bank/financial institutions   \n",
       "18                                           Save the money at groups/clubs of any informal type   \n",
       "19            Has a loan from formal financial institutions to purchase land, home, or apartment   \n",
       "20                              Borrowed money for health/medical purposes in the last 12 months   \n",
       "21                                                 Borrowed money to start/grow business or farm   \n",
       "22                                 Borrowed money from formal financial institutions - 12 months   \n",
       "23                                 Borrowed money from friends, relatives, or family - 12 months   \n",
       "24                                                           Sent/given money to friend/relative   \n",
       "25                                                        Received money from friend or relative   \n",
       "26                               Payments for electricity, water, or trash in the last 12 months   \n",
       "27                                                            salary/wages in the last 12 months   \n",
       "28                                            Employed by government or public sector -12 months   \n",
       "29                                    Received any form of financial support from the government   \n",
       "30                                                                 Pension in the last 12 months   \n",
       "31  Received money for the sale of livestock, agricultural products, crops, produce? (12 months)   \n",
       "32                                           Received money from your business in last 12 months   \n",
       "33                                                                           Owns a mobile phone   \n",
       "34                                                                          Has national ID card   \n",
       "35                                                                                  target class   \n",
       "\n",
       "    For columns(Q1 - Q28), Value 1 - Yes, 2 - No, 3-Don’t Know 4 - refused to answer  \n",
       "0                                                                                NaN  \n",
       "1                                                                                NaN  \n",
       "2                                                                                NaN  \n",
       "3                                                                                NaN  \n",
       "4                                                                                NaN  \n",
       "5                                                                                NaN  \n",
       "6                                                                                NaN  \n",
       "7                                                                                NaN  \n",
       "8                                                                                NaN  \n",
       "9                                                                                NaN  \n",
       "10                                                                               NaN  \n",
       "11                                                                               NaN  \n",
       "12                                                                               NaN  \n",
       "13                                                                               NaN  \n",
       "14                                                                               NaN  \n",
       "15                                                                               NaN  \n",
       "16                                                                               NaN  \n",
       "17                                                                               NaN  \n",
       "18                                                                               NaN  \n",
       "19                                                                               NaN  \n",
       "20                                                                               NaN  \n",
       "21                                                                               NaN  \n",
       "22                                                                               NaN  \n",
       "23                                                                               NaN  \n",
       "24                                                                               NaN  \n",
       "25                                                                               NaN  \n",
       "26                                                                               NaN  \n",
       "27                                                                               NaN  \n",
       "28                                                                               NaN  \n",
       "29                                                                               NaN  \n",
       "30                                                                               NaN  \n",
       "31                                                                               NaN  \n",
       "32                                                                               NaN  \n",
       "33                                                                               NaN  \n",
       "34                                                                               NaN  \n",
       "35                                                                               NaN  "
      ]
     },
     "execution_count": 8,
     "metadata": {},
     "output_type": "execute_result"
    }
   ],
   "source": [
    "variableDefinitions = pd.read_csv(\"VariableDefinitions.csv\")\n",
    "variableDefinitions"
   ]
  },
  {
   "cell_type": "code",
   "execution_count": 9,
   "metadata": {},
   "outputs": [
    {
     "name": "stdout",
     "output_type": "stream",
     "text": [
      "(104867, 36)\n",
      "(44943, 35)\n"
     ]
    }
   ],
   "source": [
    "print(train_df.shape)\n",
    "print(test_df.shape)"
   ]
  },
  {
   "cell_type": "code",
   "execution_count": 10,
   "metadata": {},
   "outputs": [
    {
     "data": {
      "text/plain": [
       "ID                 0\n",
       "country            0\n",
       "region           301\n",
       "population         0\n",
       "age              124\n",
       "Q1                 0\n",
       "Q2             24527\n",
       "Q3             25595\n",
       "Q4             20384\n",
       "Q5             20384\n",
       "Q6                 0\n",
       "Q7             36069\n",
       "Q8             19700\n",
       "Q9             19700\n",
       "Q10a               0\n",
       "Q10b               0\n",
       "Q11                0\n",
       "Q12                0\n",
       "Q13a               0\n",
       "Q14                0\n",
       "Q15                0\n",
       "Q16                0\n",
       "Q17a               0\n",
       "Q17b               0\n",
       "Q19            10431\n",
       "Q20            10431\n",
       "Q21                0\n",
       "Q22                0\n",
       "Q23            28943\n",
       "Q24                0\n",
       "Q25                0\n",
       "Q26            10431\n",
       "Q27            19837\n",
       "owns_mobile        1\n",
       "Q28            13433\n",
       "dtype: int64"
      ]
     },
     "execution_count": 10,
     "metadata": {},
     "output_type": "execute_result"
    }
   ],
   "source": [
    "#Checking for missing values in our train_df datasets\n",
    "test_df.isnull().sum()"
   ]
  },
  {
   "cell_type": "code",
   "execution_count": 11,
   "metadata": {},
   "outputs": [
    {
     "data": {
      "image/png": "[encoded data removed]",
      "text/plain": [
       "<Figure size 720x432 with 1 Axes>"
      ]
     },
     "metadata": {
      "needs_background": "light"
     },
     "output_type": "display_data"
    }
   ],
   "source": [
    "# Q17a - borrowed money from an institutions\n",
    "plt.figure(figsize=(10,6))\n",
    "ax = sns.countplot(train_df.Q17a)\n",
    "ax.set_xticklabels(['Yes', 'No','Dont Know','Refused to answer'], rotation=45)\n",
    "plt.title(\"Distribution of Q17a- Borrowed money from an institutions\");"
   ]
  },
  {
   "cell_type": "code",
   "execution_count": 12,
   "metadata": {},
   "outputs": [
    {
     "data": {
      "image/png": "[encoded data removed]",
      "text/plain": [
       "<Figure size 720x504 with 1 Axes>"
      ]
     },
     "metadata": {
      "needs_background": "light"
     },
     "output_type": "display_data"
    }
   ],
   "source": [
    "#Distribution for Q17b - Borrowed money from friends,relatives,etc\n",
    "plt.figure(figsize=(10,7))\n",
    "ax = sns.countplot(train_df.Q17b)\n",
    "ax.set_xticklabels(['Yes','No','Dont Know','Refused to answer'])\n",
    "plt.title(\"Distribution for Q17b - Borrowed money from friends,relatives,etc\");"
   ]
  },
  {
   "cell_type": "code",
   "execution_count": 13,
   "metadata": {
    "scrolled": true
   },
   "outputs": [
    {
     "data": {
      "image/png": "[encoded data removed]",
      "text/plain": [
       "<Figure size 864x432 with 1 Axes>"
      ]
     },
     "metadata": {
      "needs_background": "light"
     },
     "output_type": "display_data"
    }
   ],
   "source": [
    "#Distribution for Q19-send money to friend/relative\n",
    "plt.figure(figsize = (12,6))\n",
    "ax = sns.countplot(train_df.Q19)\n",
    "ax.set_xticklabels(['Yes','No','Dont Know','Refused to answer'])\n",
    "plt.title(\"Distribution for Q19-send money to friend/relative\")\n",
    "plt.show()"
   ]
  },
  {
   "cell_type": "code",
   "execution_count": 14,
   "metadata": {},
   "outputs": [
    {
     "data": {
      "image/png": "[encoded data removed]",
      "text/plain": [
       "<Figure size 720x504 with 1 Axes>"
      ]
     },
     "metadata": {
      "needs_background": "light"
     },
     "output_type": "display_data"
    }
   ],
   "source": [
    "#Distribution in regions\n",
    "plt.figure(figsize=(10,7))\n",
    "ax = sns.countplot(train_df.region)\n",
    "# ax.set_xticklabels([\"\"], rotation = 45)\n",
    "plt.title(\"Distribution in regions\")\n",
    "plt.show()"
   ]
  },
  {
   "cell_type": "code",
   "execution_count": 15,
   "metadata": {
    "scrolled": true
   },
   "outputs": [
    {
     "data": {
      "image/png": "[encoded data removed]",
      "text/plain": [
       "<Figure size 864x504 with 1 Axes>"
      ]
     },
     "metadata": {
      "needs_background": "light"
     },
     "output_type": "display_data"
    }
   ],
   "source": [
    "#Distributon of the target variable\n",
    "plt.figure(figsize=(12,7))\n",
    "ax = sns.countplot(train_df.target)\n",
    "ax.set_xticklabels(['No',\"Yes\"])\n",
    "plt.title(\"Target Variable distribution\")\n",
    "plt.show()"
   ]
  },
  {
   "cell_type": "markdown",
   "metadata": {},
   "source": [
    "This shows us that our target variable which is \"Can one  make payment if you were in an emergency) is fairly balanced.\n",
    "Where we see that the majority can make a payment incase of an emergency"
   ]
  },
  {
   "cell_type": "code",
   "execution_count": 16,
   "metadata": {},
   "outputs": [
    {
     "name": "stdout",
     "output_type": "stream",
     "text": [
      "The shape of the combined dataframeis: (149810, 36)\n"
     ]
    }
   ],
   "source": [
    "#We combine the datasets(train_df &test_df)\n",
    "ntrain = train_df.shape[0] #Used to split train and test set from combined dataframe\n",
    "all_data = pd.concat((train_df,test_df)).reset_index(drop=True)\n",
    "print(f'The shape of the combined dataframeis: {all_data.shape}')"
   ]
  },
  {
   "cell_type": "code",
   "execution_count": 17,
   "metadata": {},
   "outputs": [
    {
     "name": "stdout",
     "output_type": "stream",
     "text": [
      "<class 'pandas.core.frame.DataFrame'>\n",
      "RangeIndex: 149810 entries, 0 to 149809\n",
      "Data columns (total 36 columns):\n",
      " #   Column       Non-Null Count   Dtype  \n",
      "---  ------       --------------   -----  \n",
      " 0   ID           149810 non-null  object \n",
      " 1   country      149810 non-null  object \n",
      " 2   region       148830 non-null  object \n",
      " 3   population   149810 non-null  float64\n",
      " 4   age          149399 non-null  float64\n",
      " 5   Q1           149810 non-null  int64  \n",
      " 6   Q2           68137 non-null   float64\n",
      " 7   Q3           64562 non-null   float64\n",
      " 8   Q4           82004 non-null   float64\n",
      " 9   Q5           82004 non-null   float64\n",
      " 10  Q6           149810 non-null  int64  \n",
      " 11  Q7           29515 non-null   float64\n",
      " 12  Q8           84272 non-null   float64\n",
      " 13  Q9           84272 non-null   float64\n",
      " 14  Q10a         149810 non-null  int64  \n",
      " 15  Q10b         149810 non-null  int64  \n",
      " 16  Q11          149810 non-null  int64  \n",
      " 17  Q12          149810 non-null  int64  \n",
      " 18  Q13a         149810 non-null  int64  \n",
      " 19  Q14          149810 non-null  int64  \n",
      " 20  Q15          149810 non-null  int64  \n",
      " 21  Q16          149810 non-null  int64  \n",
      " 22  Q17a         149810 non-null  int64  \n",
      " 23  Q17b         149810 non-null  int64  \n",
      " 24  Q19          115206 non-null  float64\n",
      " 25  Q20          115206 non-null  float64\n",
      " 26  Q21          149810 non-null  int64  \n",
      " 27  Q22          149810 non-null  int64  \n",
      " 28  Q23          53580 non-null   float64\n",
      " 29  Q24          149810 non-null  int64  \n",
      " 30  Q25          149810 non-null  int64  \n",
      " 31  Q26          115206 non-null  float64\n",
      " 32  Q27          83535 non-null   float64\n",
      " 33  owns_mobile  149808 non-null  float64\n",
      " 34  Q28          105372 non-null  float64\n",
      " 35  target       104867 non-null  float64\n",
      "dtypes: float64(17), int64(16), object(3)\n",
      "memory usage: 41.1+ MB\n"
     ]
    }
   ],
   "source": [
    "#Check the column names and datatypes\n",
    "all_data.info()"
   ]
  },
  {
   "cell_type": "code",
   "execution_count": 18,
   "metadata": {},
   "outputs": [
    {
     "data": {
      "text/plain": [
       "ID                  0\n",
       "country             0\n",
       "region            980\n",
       "population          0\n",
       "age               411\n",
       "Q1                  0\n",
       "Q2              81673\n",
       "Q3              85248\n",
       "Q4              67806\n",
       "Q5              67806\n",
       "Q6                  0\n",
       "Q7             120295\n",
       "Q8              65538\n",
       "Q9              65538\n",
       "Q10a                0\n",
       "Q10b                0\n",
       "Q11                 0\n",
       "Q12                 0\n",
       "Q13a                0\n",
       "Q14                 0\n",
       "Q15                 0\n",
       "Q16                 0\n",
       "Q17a                0\n",
       "Q17b                0\n",
       "Q19             34604\n",
       "Q20             34604\n",
       "Q21                 0\n",
       "Q22                 0\n",
       "Q23             96230\n",
       "Q24                 0\n",
       "Q25                 0\n",
       "Q26             34604\n",
       "Q27             66275\n",
       "owns_mobile         2\n",
       "Q28             44438\n",
       "target          44943\n",
       "dtype: int64"
      ]
     },
     "execution_count": 18,
     "metadata": {},
     "output_type": "execute_result"
    }
   ],
   "source": [
    "#Checking he missing values\n",
    "all_data.isnull().sum()"
   ]
  },
  {
   "cell_type": "code",
   "execution_count": 19,
   "metadata": {},
   "outputs": [
    {
     "name": "stdout",
     "output_type": "stream",
     "text": [
      "<class 'pandas.core.frame.DataFrame'>\n",
      "RangeIndex: 149810 entries, 0 to 149809\n",
      "Data columns (total 36 columns):\n",
      " #   Column       Non-Null Count   Dtype   \n",
      "---  ------       --------------   -----   \n",
      " 0   ID           149810 non-null  object  \n",
      " 1   country      149810 non-null  category\n",
      " 2   region       148830 non-null  category\n",
      " 3   population   149810 non-null  float64 \n",
      " 4   age          149399 non-null  float64 \n",
      " 5   Q1           149810 non-null  category\n",
      " 6   Q2           68137 non-null   category\n",
      " 7   Q3           64562 non-null   category\n",
      " 8   Q4           82004 non-null   category\n",
      " 9   Q5           82004 non-null   category\n",
      " 10  Q6           149810 non-null  category\n",
      " 11  Q7           29515 non-null   category\n",
      " 12  Q8           84272 non-null   category\n",
      " 13  Q9           84272 non-null   category\n",
      " 14  Q10a         149810 non-null  category\n",
      " 15  Q10b         149810 non-null  category\n",
      " 16  Q11          149810 non-null  category\n",
      " 17  Q12          149810 non-null  category\n",
      " 18  Q13a         149810 non-null  category\n",
      " 19  Q14          149810 non-null  category\n",
      " 20  Q15          149810 non-null  category\n",
      " 21  Q16          149810 non-null  category\n",
      " 22  Q17a         149810 non-null  category\n",
      " 23  Q17b         149810 non-null  category\n",
      " 24  Q19          115206 non-null  category\n",
      " 25  Q20          115206 non-null  category\n",
      " 26  Q21          149810 non-null  category\n",
      " 27  Q22          149810 non-null  category\n",
      " 28  Q23          53580 non-null   category\n",
      " 29  Q24          149810 non-null  category\n",
      " 30  Q25          149810 non-null  category\n",
      " 31  Q26          115206 non-null  category\n",
      " 32  Q27          83535 non-null   category\n",
      " 33  owns_mobile  149808 non-null  category\n",
      " 34  Q28          105372 non-null  category\n",
      " 35  target       104867 non-null  float64 \n",
      "dtypes: category(32), float64(3), object(1)\n",
      "memory usage: 9.3+ MB\n"
     ]
    }
   ],
   "source": [
    "#Category columns\n",
    "cat_cols = ['country','region','owns_mobile'] + [x for x in all_data.columns if x.startswith('Q')]\n",
    "num_cols = ['age','population']\n",
    "\n",
    "\n",
    "# change columns to their respective datatypes\n",
    "all_data[cat_cols] = all_data[cat_cols].astype('category')\n",
    "\n",
    "#Confirm whether the changes have been successful\n",
    "all_data.info()"
   ]
  },
  {
   "cell_type": "code",
   "execution_count": 20,
   "metadata": {},
   "outputs": [
    {
     "name": "stdout",
     "output_type": "stream",
     "text": [
      "country 144\n",
      "region 8\n",
      "owns_mobile 4\n",
      "Q1 4\n",
      "Q2 4\n",
      "Q3 4\n",
      "Q4 4\n",
      "Q5 4\n",
      "Q6 4\n",
      "Q7 4\n",
      "Q8 4\n",
      "Q9 4\n",
      "Q10a 4\n",
      "Q10b 4\n",
      "Q11 4\n",
      "Q12 4\n",
      "Q13a 4\n",
      "Q14 4\n",
      "Q15 4\n",
      "Q16 4\n",
      "Q17a 4\n",
      "Q17b 4\n",
      "Q19 4\n",
      "Q20 4\n",
      "Q21 4\n",
      "Q22 4\n",
      "Q23 4\n",
      "Q24 4\n",
      "Q25 4\n",
      "Q26 4\n",
      "Q27 4\n",
      "Q28 4\n"
     ]
    }
   ],
   "source": [
    "#NUmber of unique values per categorical column\n",
    "for col in cat_cols:\n",
    "    print(col, all_data[col].nunique())"
   ]
  },
  {
   "cell_type": "markdown",
   "metadata": {},
   "source": [
    "**Fill in missing values**"
   ]
  },
  {
   "cell_type": "code",
   "execution_count": 21,
   "metadata": {},
   "outputs": [
    {
     "data": {
      "text/plain": [
       "False"
      ]
     },
     "execution_count": 21,
     "metadata": {},
     "output_type": "execute_result"
    }
   ],
   "source": [
    "#For cat cols and date cols fill in with mode and num cols fil in with 9999\n",
    "for col in all_data.columns:\n",
    "    if col in cat_cols:\n",
    "        all_data[col] = all_data[col].fillna(all_data[col].mode()[0])\n",
    "    elif col in num_cols:\n",
    "        all_data[col] = all_data[col].fillna(all_data[col].fillna(9999))\n",
    "#Confirm that there arent any missing values\n",
    "all_data[all_data.columns.difference(['target'])].isna().sum().any()"
   ]
  },
  {
   "cell_type": "markdown",
   "metadata": {},
   "source": [
    "**Feature Engineering**"
   ]
  },
  {
   "cell_type": "code",
   "execution_count": 22,
   "metadata": {},
   "outputs": [
    {
     "data": {
      "text/html": [
       "<div>\n",
       "<style scoped>\n",
       "    .dataframe tbody tr th:only-of-type {\n",
       "        vertical-align: middle;\n",
       "    }\n",
       "\n",
       "    .dataframe tbody tr th {\n",
       "        vertical-align: top;\n",
       "    }\n",
       "\n",
       "    .dataframe thead th {\n",
       "        text-align: right;\n",
       "    }\n",
       "</style>\n",
       "<table border=\"1\" class=\"dataframe\">\n",
       "  <thead>\n",
       "    <tr style=\"text-align: right;\">\n",
       "      <th></th>\n",
       "      <th>ID</th>\n",
       "      <th>population</th>\n",
       "      <th>age</th>\n",
       "      <th>target</th>\n",
       "      <th>country_Afghanistan</th>\n",
       "      <th>country_Albania</th>\n",
       "      <th>country_Algeria</th>\n",
       "      <th>country_Argentina</th>\n",
       "      <th>country_Armenia</th>\n",
       "      <th>country_Australia</th>\n",
       "      <th>...</th>\n",
       "      <th>Q26_3.0</th>\n",
       "      <th>Q26_4.0</th>\n",
       "      <th>Q27_1.0</th>\n",
       "      <th>Q27_2.0</th>\n",
       "      <th>Q27_3.0</th>\n",
       "      <th>Q27_4.0</th>\n",
       "      <th>Q28_1.0</th>\n",
       "      <th>Q28_2.0</th>\n",
       "      <th>Q28_3.0</th>\n",
       "      <th>Q28_4.0</th>\n",
       "    </tr>\n",
       "  </thead>\n",
       "  <tbody>\n",
       "    <tr>\n",
       "      <th>0</th>\n",
       "      <td>ID_0000020532</td>\n",
       "      <td>25550170.0</td>\n",
       "      <td>66.0</td>\n",
       "      <td>0.0</td>\n",
       "      <td>0</td>\n",
       "      <td>0</td>\n",
       "      <td>0</td>\n",
       "      <td>0</td>\n",
       "      <td>0</td>\n",
       "      <td>0</td>\n",
       "      <td>...</td>\n",
       "      <td>0</td>\n",
       "      <td>0</td>\n",
       "      <td>0</td>\n",
       "      <td>1</td>\n",
       "      <td>0</td>\n",
       "      <td>0</td>\n",
       "      <td>1</td>\n",
       "      <td>0</td>\n",
       "      <td>0</td>\n",
       "      <td>0</td>\n",
       "    </tr>\n",
       "    <tr>\n",
       "      <th>1</th>\n",
       "      <td>ID_0000075765</td>\n",
       "      <td>4591023.0</td>\n",
       "      <td>44.0</td>\n",
       "      <td>1.0</td>\n",
       "      <td>0</td>\n",
       "      <td>0</td>\n",
       "      <td>0</td>\n",
       "      <td>0</td>\n",
       "      <td>0</td>\n",
       "      <td>0</td>\n",
       "      <td>...</td>\n",
       "      <td>0</td>\n",
       "      <td>0</td>\n",
       "      <td>1</td>\n",
       "      <td>0</td>\n",
       "      <td>0</td>\n",
       "      <td>0</td>\n",
       "      <td>1</td>\n",
       "      <td>0</td>\n",
       "      <td>0</td>\n",
       "      <td>0</td>\n",
       "    </tr>\n",
       "    <tr>\n",
       "      <th>2</th>\n",
       "      <td>ID_0000085491</td>\n",
       "      <td>25550170.0</td>\n",
       "      <td>29.0</td>\n",
       "      <td>0.0</td>\n",
       "      <td>0</td>\n",
       "      <td>0</td>\n",
       "      <td>0</td>\n",
       "      <td>0</td>\n",
       "      <td>0</td>\n",
       "      <td>0</td>\n",
       "      <td>...</td>\n",
       "      <td>0</td>\n",
       "      <td>0</td>\n",
       "      <td>0</td>\n",
       "      <td>1</td>\n",
       "      <td>0</td>\n",
       "      <td>0</td>\n",
       "      <td>1</td>\n",
       "      <td>0</td>\n",
       "      <td>0</td>\n",
       "      <td>0</td>\n",
       "    </tr>\n",
       "    <tr>\n",
       "      <th>3</th>\n",
       "      <td>ID_0000144505</td>\n",
       "      <td>30491168.0</td>\n",
       "      <td>44.0</td>\n",
       "      <td>1.0</td>\n",
       "      <td>0</td>\n",
       "      <td>0</td>\n",
       "      <td>0</td>\n",
       "      <td>0</td>\n",
       "      <td>0</td>\n",
       "      <td>0</td>\n",
       "      <td>...</td>\n",
       "      <td>0</td>\n",
       "      <td>0</td>\n",
       "      <td>0</td>\n",
       "      <td>1</td>\n",
       "      <td>0</td>\n",
       "      <td>0</td>\n",
       "      <td>1</td>\n",
       "      <td>0</td>\n",
       "      <td>0</td>\n",
       "      <td>0</td>\n",
       "    </tr>\n",
       "    <tr>\n",
       "      <th>4</th>\n",
       "      <td>ID_0000214184</td>\n",
       "      <td>93002320.0</td>\n",
       "      <td>36.0</td>\n",
       "      <td>1.0</td>\n",
       "      <td>0</td>\n",
       "      <td>0</td>\n",
       "      <td>0</td>\n",
       "      <td>0</td>\n",
       "      <td>0</td>\n",
       "      <td>0</td>\n",
       "      <td>...</td>\n",
       "      <td>0</td>\n",
       "      <td>0</td>\n",
       "      <td>0</td>\n",
       "      <td>1</td>\n",
       "      <td>0</td>\n",
       "      <td>0</td>\n",
       "      <td>1</td>\n",
       "      <td>0</td>\n",
       "      <td>0</td>\n",
       "      <td>0</td>\n",
       "    </tr>\n",
       "  </tbody>\n",
       "</table>\n",
       "<p>5 rows × 276 columns</p>\n",
       "</div>"
      ],
      "text/plain": [
       "              ID  population   age  target  country_Afghanistan  \\\n",
       "0  ID_0000020532  25550170.0  66.0     0.0                    0   \n",
       "1  ID_0000075765   4591023.0  44.0     1.0                    0   \n",
       "2  ID_0000085491  25550170.0  29.0     0.0                    0   \n",
       "3  ID_0000144505  30491168.0  44.0     1.0                    0   \n",
       "4  ID_0000214184  93002320.0  36.0     1.0                    0   \n",
       "\n",
       "   country_Albania  country_Algeria  country_Argentina  country_Armenia  \\\n",
       "0                0                0                  0                0   \n",
       "1                0                0                  0                0   \n",
       "2                0                0                  0                0   \n",
       "3                0                0                  0                0   \n",
       "4                0                0                  0                0   \n",
       "\n",
       "   country_Australia  ...  Q26_3.0  Q26_4.0  Q27_1.0  Q27_2.0  Q27_3.0  \\\n",
       "0                  0  ...        0        0        0        1        0   \n",
       "1                  0  ...        0        0        1        0        0   \n",
       "2                  0  ...        0        0        0        1        0   \n",
       "3                  0  ...        0        0        0        1        0   \n",
       "4                  0  ...        0        0        0        1        0   \n",
       "\n",
       "   Q27_4.0  Q28_1.0  Q28_2.0  Q28_3.0  Q28_4.0  \n",
       "0        0        1        0        0        0  \n",
       "1        0        1        0        0        0  \n",
       "2        0        1        0        0        0  \n",
       "3        0        1        0        0        0  \n",
       "4        0        1        0        0        0  \n",
       "\n",
       "[5 rows x 276 columns]"
      ]
     },
     "execution_count": 22,
     "metadata": {},
     "output_type": "execute_result"
    }
   ],
   "source": [
    "#using onehot encoding to turn categorical values into numeric values\n",
    "all_data1 = pd.get_dummies(data = all_data, columns=cat_cols)\n",
    "all_data1.head()"
   ]
  },
  {
   "cell_type": "code",
   "execution_count": 24,
   "metadata": {},
   "outputs": [
    {
     "data": {
      "text/plain": [
       "(149810, 276)"
      ]
     },
     "execution_count": 24,
     "metadata": {},
     "output_type": "execute_result"
    }
   ],
   "source": [
    "#shape of our datasets after encoding\n",
    "all_data1.shape"
   ]
  },
  {
   "cell_type": "code",
   "execution_count": 25,
   "metadata": {},
   "outputs": [],
   "source": [
    "#Separate the train and test data from the combined dataframe\n",
    "train_df1 = all_data1[:ntrain]\n",
    "test_df2 = all_data1[ntrain:]\n"
   ]
  },
  {
   "cell_type": "code",
   "execution_count": 27,
   "metadata": {},
   "outputs": [
    {
     "data": {
      "text/plain": [
       "((104867, 276), (44943, 276))"
      ]
     },
     "execution_count": 27,
     "metadata": {},
     "output_type": "execute_result"
    }
   ],
   "source": [
    "train_df1.shape, test_df2.shape"
   ]
  },
  {
   "cell_type": "markdown",
   "metadata": {},
   "source": [
    "**Training and making predictions**"
   ]
  },
  {
   "cell_type": "code",
   "execution_count": 29,
   "metadata": {},
   "outputs": [],
   "source": [
    "#Select main columns to be used in training\n",
    "int_cols = all_data1.columns.difference(['ID','target'])\n",
    "X = train_df1[int_cols]\n",
    "y = train_df1.target.astype(int)"
   ]
  },
  {
   "cell_type": "code",
   "execution_count": 38,
   "metadata": {},
   "outputs": [],
   "source": [
    "#Split data into train and test sets\n",
    "X_train,X_test, y_train, y_test = train_test_split(X,y,test_size=0.3, random_state = 42)\n"
   ]
  },
  {
   "cell_type": "code",
   "execution_count": 90,
   "metadata": {},
   "outputs": [],
   "source": [
    "#Train Model\n",
    "logmodel = LogisticRegression().set_params()\n",
    "logmodel.fit(X_train,y_train)\n",
    "predictions = logmodel.predict_proba(X_test)[:, 1]"
   ]
  },
  {
   "cell_type": "code",
   "execution_count": 91,
   "metadata": {},
   "outputs": [
    {
     "data": {
      "text/plain": [
       "array([0.50010079, 0.5000921 , 0.5006289 , ..., 0.50037805, 0.50030589,\n",
       "       0.50034179])"
      ]
     },
     "execution_count": 91,
     "metadata": {},
     "output_type": "execute_result"
    }
   ],
   "source": [
    "predictions"
   ]
  },
  {
   "cell_type": "code",
   "execution_count": 92,
   "metadata": {},
   "outputs": [
    {
     "name": "stdout",
     "output_type": "stream",
     "text": [
      "LogisticRegression AUC score on the X_test is :0.4809122052816443\n",
      "\n",
      "              precision    recall  f1-score   support\n",
      "\n",
      "           0       0.00      0.00      0.00     12994\n",
      "           1       0.59      1.00      0.74     18467\n",
      "\n",
      "    accuracy                           0.59     31461\n",
      "   macro avg       0.29      0.50      0.37     31461\n",
      "weighted avg       0.34      0.59      0.43     31461\n",
      "\n"
     ]
    }
   ],
   "source": [
    "#Check the auc score of the model\n",
    "print(f'LogisticRegression AUC score on the X_test is :{roc_auc_score(y_test,predictions)}\\n')\n",
    "\n",
    "#print classification report \n",
    "print(classification_report(y_test, [1 if x >= 0.5 else 0 for x in predictions ]))"
   ]
  },
  {
   "cell_type": "markdown",
   "metadata": {},
   "source": [
    "***Train different model and compare result***"
   ]
  },
  {
   "cell_type": "code",
   "execution_count": 43,
   "metadata": {},
   "outputs": [],
   "source": [
    "#train model\n",
    "import xgboost as xgb"
   ]
  },
  {
   "cell_type": "code",
   "execution_count": 48,
   "metadata": {},
   "outputs": [
    {
     "name": "stdout",
     "output_type": "stream",
     "text": [
      "[13:47:29] WARNING: C:/Users/Administrator/workspace/xgboost-win64_release_1.3.0/src/learner.cc:1061: Starting in XGBoost 1.3.0, the default evaluation metric used with the objective 'binary:logistic' was changed from 'error' to 'logloss'. Explicitly set eval_metric if you'd like to restore the old behavior.\n"
     ]
    },
    {
     "data": {
      "text/plain": [
       "XGBClassifier(base_score=0.5, booster='gbtree', colsample_bylevel=1,\n",
       "              colsample_bynode=1, colsample_bytree=1, gamma=0, gpu_id=-1,\n",
       "              importance_type='gain', interaction_constraints='',\n",
       "              learning_rate=0.300000012, max_delta_step=0, max_depth=6,\n",
       "              min_child_weight=1, missing=nan, monotone_constraints='()',\n",
       "              n_estimators=100, n_jobs=4, num_parallel_tree=1, random_state=0,\n",
       "              reg_alpha=0, reg_lambda=1, scale_pos_weight=1, subsample=1,\n",
       "              tree_method='exact', validate_parameters=1, verbosity=None)"
      ]
     },
     "execution_count": 48,
     "metadata": {},
     "output_type": "execute_result"
    }
   ],
   "source": [
    "model1 = xgb.XGBClassifier()\n",
    "# fiting the model\n",
    "model1.fit(X_train,y_train)"
   ]
  },
  {
   "cell_type": "code",
   "execution_count": 49,
   "metadata": {},
   "outputs": [
    {
     "name": "stdout",
     "output_type": "stream",
     "text": [
      "XGBoost AUC score on the X_test is :0.7954307426434113\n",
      "\n"
     ]
    }
   ],
   "source": [
    "#make predictions\n",
    "y_pred = model1.predict_proba(X_test)[:,1]\n",
    "\n",
    "#Check the auc score of the model\n",
    "print(f'XGBoost AUC score on the X_test is :{roc_auc_score(y_test,y_pred)}\\n')\n"
   ]
  },
  {
   "cell_type": "markdown",
   "metadata": {},
   "source": [
    "We can clearly see the improvement after using XGBclassifier"
   ]
  },
  {
   "cell_type": "code",
   "execution_count": 50,
   "metadata": {},
   "outputs": [
    {
     "name": "stdout",
     "output_type": "stream",
     "text": [
      "              precision    recall  f1-score   support\n",
      "\n",
      "           0       0.67      0.66      0.67     12994\n",
      "           1       0.76      0.77      0.77     18467\n",
      "\n",
      "    accuracy                           0.73     31461\n",
      "   macro avg       0.72      0.72      0.72     31461\n",
      "weighted avg       0.72      0.73      0.73     31461\n",
      "\n"
     ]
    }
   ],
   "source": [
    "#Print the classfication report\n",
    "print(classification_report(y_test, [1 if x >= 0.5 else 0 for x in y_pred]))"
   ]
  },
  {
   "cell_type": "code",
   "execution_count": 99,
   "metadata": {},
   "outputs": [
    {
     "name": "stdout",
     "output_type": "stream",
     "text": [
      "(44943, 274)\n"
     ]
    }
   ],
   "source": [
    "# making predictions of the test set\n",
    "test_df1 = test_df2[int_cols]\n",
    "predictions = model1.predict_proba(test_df1)[:, 1]\n",
    "print(test_df1.shape)\n"
   ]
  },
  {
   "cell_type": "code",
   "execution_count": 79,
   "metadata": {},
   "outputs": [],
   "source": [
    "D_train = xgb.DMatrix(X_train, label = y_train)\n",
    "D_test = xgb.DMatrix(X_test, label = y_test )\n",
    "\n",
    "# defining the params in the XGBoost model\n",
    "params = {\n",
    "    'eta' :0.2,\n",
    "    'max_depth' :3,\n",
    "    'objective' : 'multi:softprob',\n",
    "    'num_class' : 2\n",
    "    \n",
    "}\n",
    "steps = 10"
   ]
  },
  {
   "cell_type": "code",
   "execution_count": 80,
   "metadata": {},
   "outputs": [
    {
     "name": "stdout",
     "output_type": "stream",
     "text": [
      "[15:02:08] WARNING: C:/Users/Administrator/workspace/xgboost-win64_release_1.3.0/src/learner.cc:1061: Starting in XGBoost 1.3.0, the default evaluation metric used with the objective 'multi:softprob' was changed from 'merror' to 'mlogloss'. Explicitly set eval_metric if you'd like to restore the old behavior.\n"
     ]
    }
   ],
   "source": [
    "#training and testing\n",
    "model2 = xgb.train(params, D_train, steps)"
   ]
  },
  {
   "cell_type": "code",
   "execution_count": 81,
   "metadata": {},
   "outputs": [],
   "source": [
    "#making the prediction\n",
    "preds = model2.predict(D_test)\n",
    "best_preds = np.asarray([np.argmax(line) for line in preds])\n"
   ]
  },
  {
   "cell_type": "code",
   "execution_count": 82,
   "metadata": {},
   "outputs": [
    {
     "name": "stdout",
     "output_type": "stream",
     "text": [
      "XGBoost AUC score on the X_test is :0.67084384969544\n",
      "\n"
     ]
    }
   ],
   "source": [
    "\n",
    "#Check the auc score of the model\n",
    "print(f'XGBoost AUC score on the X_test is :{roc_auc_score(y_test,best_preds)}\\n')\n"
   ]
  },
  {
   "cell_type": "code",
   "execution_count": 100,
   "metadata": {},
   "outputs": [],
   "source": [
    "#Create a submission file\n",
    "\n",
    "samplesubmission = pd.read_csv(\"SampleSubmission.csv\")\n",
    "sub_file = samplesubmission.copy()\n",
    "sub_file.target = predictions"
   ]
  },
  {
   "cell_type": "code",
   "execution_count": 101,
   "metadata": {},
   "outputs": [
    {
     "data": {
      "text/plain": [
       "(44943, 2)"
      ]
     },
     "execution_count": 101,
     "metadata": {},
     "output_type": "execute_result"
    }
   ],
   "source": [
    "samplesubmission.shape"
   ]
  },
  {
   "cell_type": "code",
   "execution_count": 102,
   "metadata": {},
   "outputs": [
    {
     "data": {
      "text/html": [
       "<div>\n",
       "<style scoped>\n",
       "    .dataframe tbody tr th:only-of-type {\n",
       "        vertical-align: middle;\n",
       "    }\n",
       "\n",
       "    .dataframe tbody tr th {\n",
       "        vertical-align: top;\n",
       "    }\n",
       "\n",
       "    .dataframe thead th {\n",
       "        text-align: right;\n",
       "    }\n",
       "</style>\n",
       "<table border=\"1\" class=\"dataframe\">\n",
       "  <thead>\n",
       "    <tr style=\"text-align: right;\">\n",
       "      <th></th>\n",
       "      <th>ID</th>\n",
       "      <th>target</th>\n",
       "    </tr>\n",
       "  </thead>\n",
       "  <tbody>\n",
       "    <tr>\n",
       "      <th>0</th>\n",
       "      <td>ID_0000005111</td>\n",
       "      <td>0.853463</td>\n",
       "    </tr>\n",
       "    <tr>\n",
       "      <th>1</th>\n",
       "      <td>ID_0000389416</td>\n",
       "      <td>0.287669</td>\n",
       "    </tr>\n",
       "    <tr>\n",
       "      <th>2</th>\n",
       "      <td>ID_0000634789</td>\n",
       "      <td>0.462269</td>\n",
       "    </tr>\n",
       "    <tr>\n",
       "      <th>3</th>\n",
       "      <td>ID_0000778100</td>\n",
       "      <td>0.964493</td>\n",
       "    </tr>\n",
       "    <tr>\n",
       "      <th>4</th>\n",
       "      <td>ID_0001123210</td>\n",
       "      <td>0.703131</td>\n",
       "    </tr>\n",
       "  </tbody>\n",
       "</table>\n",
       "</div>"
      ],
      "text/plain": [
       "              ID    target\n",
       "0  ID_0000005111  0.853463\n",
       "1  ID_0000389416  0.287669\n",
       "2  ID_0000634789  0.462269\n",
       "3  ID_0000778100  0.964493\n",
       "4  ID_0001123210  0.703131"
      ]
     },
     "execution_count": 102,
     "metadata": {},
     "output_type": "execute_result"
    }
   ],
   "source": [
    "sub_file.to_csv('resilence.csv',index = False)\n",
    "sub_file.head()"
   ]
  },
  {
   "cell_type": "code",
   "execution_count": null,
   "metadata": {},
   "outputs": [],
   "source": []
  }
 ],
 "metadata": {
  "kernelspec": {
   "display_name": "Python 3",
   "language": "python",
   "name": "python3"
  },
  "language_info": {
   "codemirror_mode": {
    "name": "ipython",
    "version": 3
   },
   "file_extension": ".py",
   "mimetype": "text/x-python",
   "name": "python",
   "nbconvert_exporter": "python",
   "pygments_lexer": "ipython3",
   "version": "3.8.5"
  }
 },
 "nbformat": 4,
 "nbformat_minor": 4
}
